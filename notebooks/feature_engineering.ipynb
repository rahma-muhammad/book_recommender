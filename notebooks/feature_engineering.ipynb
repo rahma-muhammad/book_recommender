{
 "cells": [
  {
   "cell_type": "markdown",
   "id": "0165fcc1-1909-4bfe-bc28-64736ad2ae1b",
   "metadata": {},
   "source": [
    "# Keyword Extraction"
   ]
  },
  {
   "cell_type": "code",
   "execution_count": 1,
   "id": "3767f971-6f34-43bc-affc-c5c381ce13dd",
   "metadata": {},
   "outputs": [],
   "source": [
    "import pandas as pd\n",
    "import numpy as np"
   ]
  },
  {
   "cell_type": "code",
   "execution_count": 2,
   "id": "98984069-0edf-4e05-8c0f-6643946dc1ac",
   "metadata": {},
   "outputs": [
    {
     "data": {
      "text/html": [
       "<div>\n",
       "<style scoped>\n",
       "    .dataframe tbody tr th:only-of-type {\n",
       "        vertical-align: middle;\n",
       "    }\n",
       "\n",
       "    .dataframe tbody tr th {\n",
       "        vertical-align: top;\n",
       "    }\n",
       "\n",
       "    .dataframe thead th {\n",
       "        text-align: right;\n",
       "    }\n",
       "</style>\n",
       "<table border=\"1\" class=\"dataframe\">\n",
       "  <thead>\n",
       "    <tr style=\"text-align: right;\">\n",
       "      <th></th>\n",
       "      <th>Id</th>\n",
       "      <th>Name</th>\n",
       "      <th>Language</th>\n",
       "      <th>Description</th>\n",
       "      <th>bow</th>\n",
       "    </tr>\n",
       "  </thead>\n",
       "  <tbody>\n",
       "    <tr>\n",
       "      <th>0</th>\n",
       "      <td>1020396</td>\n",
       "      <td>the gospel of john</td>\n",
       "      <td>eng</td>\n",
       "      <td>what sets this commentary on the fourth gospel...</td>\n",
       "      <td>francis_j._moloney michael_glazier</td>\n",
       "    </tr>\n",
       "    <tr>\n",
       "      <th>1</th>\n",
       "      <td>1073868</td>\n",
       "      <td>hanslick on the musically beautiful: sixteen l...</td>\n",
       "      <td>eng</td>\n",
       "      <td>the sixteen lectures by geoffrey payzant in th...</td>\n",
       "      <td>geoffrey_payzant 1-877275-49-2</td>\n",
       "    </tr>\n",
       "    <tr>\n",
       "      <th>2</th>\n",
       "      <td>1025976</td>\n",
       "      <td>microserfs</td>\n",
       "      <td>fre</td>\n",
       "      <td>génération x 1018 n° 2508 qui a connu un gros ...</td>\n",
       "      <td>douglas_coupland 10/18</td>\n",
       "    </tr>\n",
       "    <tr>\n",
       "      <th>3</th>\n",
       "      <td>1045943</td>\n",
       "      <td>courir avec des ciseaux</td>\n",
       "      <td>fre</td>\n",
       "      <td>roman autobiographique choc courir avec des ci...</td>\n",
       "      <td>augusten_burroughs 10/18</td>\n",
       "    </tr>\n",
       "    <tr>\n",
       "      <th>4</th>\n",
       "      <td>1027805</td>\n",
       "      <td>affinités</td>\n",
       "      <td>fre</td>\n",
       "      <td>pour tromper son ennui une demoiselle de la bo...</td>\n",
       "      <td>sarah_waters 10/18</td>\n",
       "    </tr>\n",
       "  </tbody>\n",
       "</table>\n",
       "</div>"
      ],
      "text/plain": [
       "        Id                                               Name Language  \\\n",
       "0  1020396                                 the gospel of john      eng   \n",
       "1  1073868  hanslick on the musically beautiful: sixteen l...      eng   \n",
       "2  1025976                                         microserfs      fre   \n",
       "3  1045943                            courir avec des ciseaux      fre   \n",
       "4  1027805                                          affinités      fre   \n",
       "\n",
       "                                         Description  \\\n",
       "0  what sets this commentary on the fourth gospel...   \n",
       "1  the sixteen lectures by geoffrey payzant in th...   \n",
       "2  génération x 1018 n° 2508 qui a connu un gros ...   \n",
       "3  roman autobiographique choc courir avec des ci...   \n",
       "4  pour tromper son ennui une demoiselle de la bo...   \n",
       "\n",
       "                                   bow  \n",
       "0   francis_j._moloney michael_glazier  \n",
       "1       geoffrey_payzant 1-877275-49-2  \n",
       "2               douglas_coupland 10/18  \n",
       "3             augusten_burroughs 10/18  \n",
       "4                   sarah_waters 10/18  "
      ]
     },
     "execution_count": 2,
     "metadata": {},
     "output_type": "execute_result"
    }
   ],
   "source": [
    "# Fetch preprocessed data\n",
    "fe_data = pd.read_csv(\"data/preprocessed.csv\", usecols=[\"Id\", \"Name\", \"Language\", \"Description\", \"bow\"])\n",
    "fe_data.head()"
   ]
  },
  {
   "cell_type": "code",
   "execution_count": 3,
   "id": "4e4d754b-d46a-4856-86f7-bc2ca7ca4a1d",
   "metadata": {},
   "outputs": [
    {
     "data": {
      "text/plain": [
       "Id                 0\n",
       "Name              85\n",
       "Language       34257\n",
       "Description      435\n",
       "bow             2879\n",
       "dtype: int64"
      ]
     },
     "execution_count": 3,
     "metadata": {},
     "output_type": "execute_result"
    }
   ],
   "source": [
    "# Find duplicated values\n",
    "fe_data.shape[0] - fe_data.nunique()"
   ]
  },
  {
   "cell_type": "markdown",
   "id": "9b02c99c-b843-4938-8bf6-94616cf8f24c",
   "metadata": {},
   "source": [
    "---\n",
    "### Consider only English books"
   ]
  },
  {
   "cell_type": "code",
   "execution_count": 4,
   "id": "0c079062-e0d6-4ce0-ab60-d1665ddf46a8",
   "metadata": {},
   "outputs": [],
   "source": [
    "# # Temporary process only english books\n",
    "fe_data = fe_data[fe_data.Language.isin([\"eng\", \"en-US\", \"en-GB\"])].copy()"
   ]
  },
  {
   "cell_type": "markdown",
   "id": "25f51cc2-7ba3-495f-a6a8-6b5345f72d35",
   "metadata": {},
   "source": [
    "---\n",
    "### Extract keywords from description using keyBERT"
   ]
  },
  {
   "cell_type": "code",
   "execution_count": 5,
   "id": "18eea85b-7d75-48fc-8921-687527548452",
   "metadata": {},
   "outputs": [
    {
     "name": "stderr",
     "output_type": "stream",
     "text": [
      "d:\\A\\BookRecommendationSys\\venv\\lib\\site-packages\\tqdm\\auto.py:21: TqdmWarning: IProgress not found. Please update jupyter and ipywidgets. See https://ipywidgets.readthedocs.io/en/stable/user_install.html\n",
      "  from .autonotebook import tqdm as notebook_tqdm\n"
     ]
    }
   ],
   "source": [
    "from keybert import KeyBERT\n",
    "kw_model = KeyBERT()\n",
    "\n",
    "def get_keywords(text):\n",
    "    keywords = kw_model.extract_keywords(text, keyphrase_ngram_range=(1, 1), stop_words=\"english\")\n",
    "    keywords = \" \".join([k[0] for k in keywords])\n",
    "    return keywords"
   ]
  },
  {
   "cell_type": "code",
   "execution_count": 6,
   "id": "05f369e4-e040-43fb-82bb-b33875369e94",
   "metadata": {},
   "outputs": [],
   "source": [
    "import tqdm as notebook_tqdm\n",
    "fe_data[\"keywords\"] = fe_data.Description.apply(get_keywords)"
   ]
  },
  {
   "cell_type": "code",
   "execution_count": 7,
   "id": "b7dd9b1e-277e-4058-8423-1916dab94311",
   "metadata": {},
   "outputs": [
    {
     "data": {
      "text/plain": [
       "0          gospel narrative moloneys fourth commentary\n",
       "1    musikalischschnen hanslicks hanslick musically...\n",
       "6                           nun memoir wars jewish war\n",
       "8    nursery rockinghorse kentuckians anglosaxon ba...\n",
       "9       railway father engineer perseverance machinery\n",
       "Name: keywords, dtype: object"
      ]
     },
     "execution_count": 7,
     "metadata": {},
     "output_type": "execute_result"
    }
   ],
   "source": [
    "fe_data.keywords.head()"
   ]
  },
  {
   "cell_type": "code",
   "execution_count": 8,
   "id": "286b5288-2928-41a7-b745-620edbbe9dd3",
   "metadata": {},
   "outputs": [],
   "source": [
    "# keyword column = book information (bow) + description keywords extracted\n",
    "fe_data[\"keywords\"] = fe_data[['bow', 'keywords']].fillna('').agg(' '.join, axis=1)\n",
    "fe_data.drop(['bow', 'Description'], axis = 1, inplace=True)"
   ]
  },
  {
   "cell_type": "markdown",
   "id": "f5c35088-9507-4bbb-b16e-bc5f33f841aa",
   "metadata": {},
   "source": [
    "---\n",
    "### Remove duplicated book names"
   ]
  },
  {
   "cell_type": "code",
   "execution_count": 9,
   "id": "1a134d00-19bc-4706-9c8f-d1137628df91",
   "metadata": {},
   "outputs": [
    {
     "data": {
      "text/html": [
       "<div>\n",
       "<style scoped>\n",
       "    .dataframe tbody tr th:only-of-type {\n",
       "        vertical-align: middle;\n",
       "    }\n",
       "\n",
       "    .dataframe tbody tr th {\n",
       "        vertical-align: top;\n",
       "    }\n",
       "\n",
       "    .dataframe thead th {\n",
       "        text-align: right;\n",
       "    }\n",
       "</style>\n",
       "<table border=\"1\" class=\"dataframe\">\n",
       "  <thead>\n",
       "    <tr style=\"text-align: right;\">\n",
       "      <th></th>\n",
       "      <th>Id</th>\n",
       "      <th>Name</th>\n",
       "      <th>Language</th>\n",
       "      <th>keywords</th>\n",
       "    </tr>\n",
       "  </thead>\n",
       "  <tbody>\n",
       "    <tr>\n",
       "      <th>1492</th>\n",
       "      <td>1078605</td>\n",
       "      <td>rising to the occasion</td>\n",
       "      <td>eng</td>\n",
       "      <td>linda_taylor arrow_books_ltd novel cathy hero...</td>\n",
       "    </tr>\n",
       "    <tr>\n",
       "      <th>2941</th>\n",
       "      <td>1078370</td>\n",
       "      <td>ainsley harriott's low fat meals in minutes</td>\n",
       "      <td>eng</td>\n",
       "      <td>ainsley_harriott bbc_books ainsleys ainsley l...</td>\n",
       "    </tr>\n",
       "    <tr>\n",
       "      <th>3235</th>\n",
       "      <td>1061929</td>\n",
       "      <td>the moon is a harsh mistress</td>\n",
       "      <td>eng</td>\n",
       "      <td>robert_a._heinlein berkley_medallion lehrit r...</td>\n",
       "    </tr>\n",
       "    <tr>\n",
       "      <th>3310</th>\n",
       "      <td>1061015</td>\n",
       "      <td>winds of autumn</td>\n",
       "      <td>eng</td>\n",
       "      <td>janette_oke bethany_house_publishers josh sum...</td>\n",
       "    </tr>\n",
       "    <tr>\n",
       "      <th>3616</th>\n",
       "      <td>1061923</td>\n",
       "      <td>the moon is a harsh mistress</td>\n",
       "      <td>eng</td>\n",
       "      <td>robert_a._heinlein blackstone_publishing hein...</td>\n",
       "    </tr>\n",
       "    <tr>\n",
       "      <th>...</th>\n",
       "      <td>...</td>\n",
       "      <td>...</td>\n",
       "      <td>...</td>\n",
       "      <td>...</td>\n",
       "    </tr>\n",
       "    <tr>\n",
       "      <th>31859</th>\n",
       "      <td>1001528</td>\n",
       "      <td>natasha and other stories</td>\n",
       "      <td>eng</td>\n",
       "      <td>david_bezmozgis vintage bermans bella berman ...</td>\n",
       "    </tr>\n",
       "    <tr>\n",
       "      <th>32246</th>\n",
       "      <td>1083746</td>\n",
       "      <td>among the thugs</td>\n",
       "      <td>eng</td>\n",
       "      <td>bill_buford w._w._norton_&amp;_company bufords bu...</td>\n",
       "    </tr>\n",
       "    <tr>\n",
       "      <th>33626</th>\n",
       "      <td>1041880</td>\n",
       "      <td>the red and the black</td>\n",
       "      <td>eng</td>\n",
       "      <td>stendhal wordsworth_editions priesthood ambit...</td>\n",
       "    </tr>\n",
       "    <tr>\n",
       "      <th>34093</th>\n",
       "      <td>1088848</td>\n",
       "      <td>the duke of flatbush</td>\n",
       "      <td>eng</td>\n",
       "      <td>duke_snider zebra baseballs dodgers baseball ...</td>\n",
       "    </tr>\n",
       "    <tr>\n",
       "      <th>34488</th>\n",
       "      <td>1097921</td>\n",
       "      <td>india and tibet</td>\n",
       "      <td>eng</td>\n",
       "      <td>francis_younghusband  murray reprint 1910 boo...</td>\n",
       "    </tr>\n",
       "  </tbody>\n",
       "</table>\n",
       "<p>70 rows × 4 columns</p>\n",
       "</div>"
      ],
      "text/plain": [
       "            Id                                         Name Language  \\\n",
       "1492   1078605                       rising to the occasion      eng   \n",
       "2941   1078370  ainsley harriott's low fat meals in minutes      eng   \n",
       "3235   1061929                 the moon is a harsh mistress      eng   \n",
       "3310   1061015                              winds of autumn      eng   \n",
       "3616   1061923                 the moon is a harsh mistress      eng   \n",
       "...        ...                                          ...      ...   \n",
       "31859  1001528                    natasha and other stories      eng   \n",
       "32246  1083746                              among the thugs      eng   \n",
       "33626  1041880                        the red and the black      eng   \n",
       "34093  1088848                         the duke of flatbush      eng   \n",
       "34488  1097921                              india and tibet      eng   \n",
       "\n",
       "                                                keywords  \n",
       "1492    linda_taylor arrow_books_ltd novel cathy hero...  \n",
       "2941    ainsley_harriott bbc_books ainsleys ainsley l...  \n",
       "3235    robert_a._heinlein berkley_medallion lehrit r...  \n",
       "3310    janette_oke bethany_house_publishers josh sum...  \n",
       "3616    robert_a._heinlein blackstone_publishing hein...  \n",
       "...                                                  ...  \n",
       "31859   david_bezmozgis vintage bermans bella berman ...  \n",
       "32246   bill_buford w._w._norton_&_company bufords bu...  \n",
       "33626   stendhal wordsworth_editions priesthood ambit...  \n",
       "34093   duke_snider zebra baseballs dodgers baseball ...  \n",
       "34488   francis_younghusband  murray reprint 1910 boo...  \n",
       "\n",
       "[70 rows x 4 columns]"
      ]
     },
     "execution_count": 9,
     "metadata": {},
     "output_type": "execute_result"
    }
   ],
   "source": [
    "fe_data[fe_data.duplicated(subset=[\"Name\"], keep=\"first\")]"
   ]
  },
  {
   "cell_type": "code",
   "execution_count": 10,
   "id": "ed26c8e5-b1c8-45b8-be52-556e71c362f7",
   "metadata": {},
   "outputs": [],
   "source": [
    "fe_data = fe_data.drop_duplicates(subset=[\"Name\"], keep='first')"
   ]
  },
  {
   "cell_type": "markdown",
   "id": "8b9b5689-7a32-4cb5-827d-611d865794c8",
   "metadata": {},
   "source": [
    "---\n",
    "### Save final dataset"
   ]
  },
  {
   "cell_type": "code",
   "execution_count": 11,
   "id": "5facc9eb-5dc6-4f2b-8a4f-ab046e863844",
   "metadata": {},
   "outputs": [],
   "source": [
    "fe_data.to_csv(\"data/keywords.csv\", sep=\",\", index=False)"
   ]
  },
  {
   "cell_type": "code",
   "execution_count": null,
   "id": "8bc2aaca",
   "metadata": {},
   "outputs": [],
   "source": []
  }
 ],
 "metadata": {
  "kernelspec": {
   "display_name": "Python 3 (ipykernel)",
   "language": "python",
   "name": "python3"
  },
  "language_info": {
   "codemirror_mode": {
    "name": "ipython",
    "version": 3
   },
   "file_extension": ".py",
   "mimetype": "text/x-python",
   "name": "python",
   "nbconvert_exporter": "python",
   "pygments_lexer": "ipython3",
   "version": "3.10.5"
  }
 },
 "nbformat": 4,
 "nbformat_minor": 5
}
